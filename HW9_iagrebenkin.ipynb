{
 "cells": [
  {
   "cell_type": "code",
   "execution_count": 157,
   "metadata": {
    "collapsed": true
   },
   "outputs": [
    {
     "data": {
      "text/plain": "2"
     },
     "execution_count": 157,
     "metadata": {},
     "output_type": "execute_result"
    }
   ],
   "source": [
    "import scipy.linalg\n",
    "\n",
    "len('ИльяГребенкин') % 2 +1"
   ]
  },
  {
   "cell_type": "markdown",
   "source": [
    "VI.2. (15) Используя стандартный генератор случайных чисел с равномерным распределением на интервале $[0,1)$, сгенерируите выборку из нормального распределения, $p(x) \\sim \\exp \\left(-x^{2} / 2\\right)$, на интервале $-\\infty<$ $x<\\infty$. Используйте метод Бокса-Мюллера: рассмотрите произведение двух независимых нормально распределенных величин и перейдите в полярные координаты. Постройте гистограмму (или эмпирическую функцию распределения), сравните с ожидаемым нормальным распределением. Проверьте гипотезу о нормальном распределении сгенерированных данных. Критерий и уровень значимости выберите самостоятельно, выбор обоснуйте."
   ],
   "metadata": {
    "collapsed": false,
    "pycharm": {
     "name": "#%% md\n"
    }
   }
  },
  {
   "cell_type": "code",
   "execution_count": 158,
   "outputs": [],
   "source": [
    "import numpy as np\n",
    "import scipy\n",
    "import matplotlib.pyplot as plt"
   ],
   "metadata": {
    "collapsed": false,
    "pycharm": {
     "name": "#%%\n"
    }
   }
  },
  {
   "cell_type": "code",
   "execution_count": 159,
   "outputs": [
    {
     "data": {
      "text/plain": "<Figure size 432x288 with 1 Axes>",
      "image/png": "[encoded data removed]"
     },
     "metadata": {
      "needs_background": "light"
     },
     "output_type": "display_data"
    }
   ],
   "source": [
    "n = 100000\n",
    "X = np.linspace(-4, 4, n)\n",
    "pdf = np.exp(-X**2/2)\n",
    "vals = np.random.uniform(0, 1, n)\n",
    "more_vals = np.random.uniform(0, 1, n)\n",
    "r = np.sqrt(-2*np.log(vals))\n",
    "phi = 2 * np.pi * more_vals\n",
    "x = r * np.cos(phi)\n",
    "plt.hist(x, bins=100, density=True, color='pink', label='Полученная\\nплотность')\n",
    "plt.plot(X, pdf/np.sqrt(2*np.pi), color='green' , label='Данная\\nплотность')\n",
    "plt.legend()\n",
    "plt.show()\n",
    "\n"
   ],
   "metadata": {
    "collapsed": false,
    "pycharm": {
     "name": "#%%\n"
    }
   }
  },
  {
   "cell_type": "markdown",
   "source": [
    "VI.3. (30) Вычислите следующий интеграл по $n$-мерному вектору $\\vec{x}$ (в бесконечных пределах) методом Монте-Kapлo:\n",
    "$$\n",
    "\\int \\Pi_{i=1}^{n} d x_{i} \\frac{\\exp \\left(-\\vec{x}^{T} A \\vec{x}\\right)}{1+x_{1}^{2}+\\ldots+x_{n}^{2}},\n",
    "$$\n",
    "где матрица $A$ содержится в А4. (в файле data_89.npz)"
   ],
   "metadata": {
    "collapsed": false
   }
  },
  {
   "cell_type": "code",
   "execution_count": 160,
   "outputs": [
    {
     "name": "stdout",
     "output_type": "stream",
     "text": [
      "(8, 8)\n",
      "[32.   16.    8.    4.    2.    0.25  0.5   1.  ]\n"
     ]
    }
   ],
   "source": [
    "array = np.load('data_89.npz')\n",
    "A = array['A4']\n",
    "print(A.shape)\n",
    "n = A.shape[0]\n",
    "l = scipy.linalg.eigvals(A).real # эти значения действительные\n",
    "print(l)"
   ],
   "metadata": {
    "collapsed": false,
    "pycharm": {
     "name": "#%%\n"
    }
   }
  },
  {
   "cell_type": "markdown",
   "source": [
    "Далее:\n",
    "coef $= \\sqrt{\\pi/\\lambda_i}$ -- коэффициент для преобразования экспоненты к стандартному виду плотности\n",
    "vector -- набор $x_i$\n",
    "frac -- результирующая дробь для каждой реализации"
   ],
   "metadata": {
    "collapsed": false,
    "pycharm": {
     "name": "#%% md\n"
    }
   }
  },
  {
   "cell_type": "code",
   "execution_count": 161,
   "outputs": [
    {
     "name": "stdout",
     "output_type": "stream",
     "text": [
      "I =  0.15428122245827605 N =  10\n",
      "I =  0.21664673210504326 N =  100\n",
      "I =  0.2162833475185298 N =  1000\n",
      "I =  0.21598343134694542 N =  10000\n",
      "I =  0.21585788957710608 N =  100000\n",
      "I =  0.21555162935548733 N =  1000000\n",
      "I =  0.2154651819691258 N =  10000000\n"
     ]
    }
   ],
   "source": [
    "I = 0\n",
    "for N in [10, 100, 1000, 10000, 100000, 1000000, 10000000]:\n",
    "    for i in range(N):\n",
    "        coef = np.sqrt(np.pi/l)\n",
    "        gamma = np.random.uniform(0, 1, n)\n",
    "        vector = - 1/l * np.log(gamma) #используя метод обратных ф-ий генерим х\n",
    "        frac = 1/(1 + np.sum(vector)) #опущены последовательные операции взятия квадратного корня и возведения в квадрат\n",
    "        frac *= np.prod(coef)\n",
    "        I += frac\n",
    "    I /= N\n",
    "    print('I = ',I, 'N = ', N)"
   ],
   "metadata": {
    "collapsed": false,
    "pycharm": {
     "name": "#%%\n"
    }
   }
  },
  {
   "cell_type": "markdown",
   "source": [
    "VII.1. (20) Рассмотрите функцию, отображающую вектор $\\vec{x}$ длины $n$ в скаляр:\n",
    "$$\n",
    "f(\\vec{x} \\mid a)=\\frac{1}{\\exp \\left(a_{0}+x_{1} a_{1}+\\ldots+x_{n} a_{n}\\right)+1},\n",
    "$$\n",
    "параметризованную коэффицентами $a_{0}, a_{1}, \\ldots, a_{n} .$ В строках матрицы А2 (в файле data_89.npz) содержится набор $m$ векторов $\\vec{x}_{1}, \\ldots, \\vec{x}_{m}$, а в векторе у2 - набор $m$ чисел $y_{1}, \\ldots, y_{m}$. Найдите коэффициенты $a$ такие, что\n",
    "$$\n",
    "\\sum_{i}\\left(f\\left(\\vec{x}_{i} \\mid a\\right)-y_{i}\\right)^{2}\n",
    "$$\n",
    "минимально. Используйте библиотечные функции пакета scipy.optimize : minimize или least_squares. Указание: При правильном использовании синтаксиса NumPу, вычисление целевой функции окажется коротким и читабельным.\n"
   ],
   "metadata": {
    "collapsed": false,
    "pycharm": {
     "name": "#%% md\n"
    }
   }
  },
  {
   "cell_type": "code",
   "execution_count": 162,
   "outputs": [],
   "source": [
    "A2 = array['A2']\n",
    "y2 = array['y2']\n",
    "m = A2.shape[0]"
   ],
   "metadata": {
    "collapsed": false,
    "pycharm": {
     "name": "#%%\n"
    }
   }
  },
  {
   "cell_type": "code",
   "execution_count": 163,
   "outputs": [],
   "source": [
    "from scipy.optimize import minimize"
   ],
   "metadata": {
    "collapsed": false,
    "pycharm": {
     "name": "#%%\n"
    }
   }
  },
  {
   "cell_type": "code",
   "execution_count": 164,
   "outputs": [],
   "source": [
    "def f(x, a):\n",
    "    return 1/(np.exp(a[0] + np.sum(x * a[1:])) + 1)"
   ],
   "metadata": {
    "collapsed": false,
    "pycharm": {
     "name": "#%%\n"
    }
   }
  },
  {
   "cell_type": "code",
   "execution_count": 165,
   "outputs": [],
   "source": [
    "def goal_f(a):\n",
    "    sum = 0\n",
    "    for i in range(m):\n",
    "        sum += (f(A2[i], a) - y2[i])**2\n",
    "    return sum"
   ],
   "metadata": {
    "collapsed": false,
    "pycharm": {
     "name": "#%%\n"
    }
   }
  },
  {
   "cell_type": "code",
   "execution_count": 166,
   "outputs": [
    {
     "name": "stdout",
     "output_type": "stream",
     "text": [
      "Ответ = [ 0.58423832  0.32177813 -0.1136294   1.99874006 -0.31966352 -0.28386703\n",
      " -0.35973178 -0.02175148  0.0097682   1.53323474 -0.59548242]\n"
     ]
    }
   ],
   "source": [
    "res = minimize(goal_f, np.zeros(A2.shape[1]+1))\n",
    "print('Ответ =', res.x)"
   ],
   "metadata": {
    "collapsed": false,
    "pycharm": {
     "name": "#%%\n"
    }
   }
  },
  {
   "cell_type": "code",
   "execution_count": 167,
   "outputs": [
    {
     "data": {
      "text/plain": "0.04355277572294319"
     },
     "execution_count": 167,
     "metadata": {},
     "output_type": "execute_result"
    }
   ],
   "source": [
    "goal_f(res.x)"
   ],
   "metadata": {
    "collapsed": false,
    "pycharm": {
     "name": "#%%\n"
    }
   }
  },
  {
   "cell_type": "markdown",
   "source": [
    "VII.2. (20) Решите предыдущую задачу, используя метод градиентного спуска с фиксированным $\\gamma$, в качестве начального приближения выбирая случайный вектор $\\vec{d}$. Вычислите градиент двумя способами: разностным приближением и используя пакет autograd."
   ],
   "metadata": {
    "collapsed": false,
    "pycharm": {
     "name": "#%% md\n"
    }
   }
  },
  {
   "cell_type": "markdown",
   "source": [
    "Разностное приближение"
   ],
   "metadata": {
    "collapsed": false,
    "pycharm": {
     "name": "#%% md\n"
    }
   }
  },
  {
   "cell_type": "code",
   "execution_count": 168,
   "outputs": [],
   "source": [
    "def my_grad_d(f):\n",
    "    eps = 10e-8\n",
    "    der = np.zeros(A2.shape[1]+1)\n",
    "    for i in range(A2.shape[1]+1):\n",
    "        d[i] = d[i] + eps\n",
    "        fdp = f(d)\n",
    "        d[i] = d[i] - 2 * eps\n",
    "        fdm = f(d)\n",
    "        d[i] = d[i] + eps\n",
    "        der[i] = (fdp - fdm) / eps\n",
    "    return der"
   ],
   "metadata": {
    "collapsed": false,
    "pycharm": {
     "name": "#%%\n"
    }
   }
  },
  {
   "cell_type": "code",
   "execution_count": 180,
   "outputs": [
    {
     "name": "stdout",
     "output_type": "stream",
     "text": [
      "[ 0.56069781  0.31657032 -0.10374402  1.99396473 -0.30366604 -0.28589418\n",
      " -0.34982005 -0.03566263  0.01887279  1.5376604  -0.59633577] \n",
      "\n",
      "0.04355508317711683 \n",
      "\n"
     ]
    }
   ],
   "source": [
    "gamma_ = 0.2\n",
    "steps = 1000\n",
    "d = np.random.uniform(0, 1, A2.shape[1]+1)\n",
    "for i in range(steps):\n",
    "    gradient = my_grad_d(goal_f)\n",
    "    d = d - gamma_ * gradient # изменение аргумента на текущей итерации\n",
    "    # print(np.linalg.norm(gradient))\n",
    "print(d, '\\n')\n",
    "print(goal_f(d), '\\n')"
   ],
   "metadata": {
    "collapsed": false,
    "pycharm": {
     "name": "#%%\n"
    }
   }
  },
  {
   "cell_type": "markdown",
   "source": [
    "Autograd"
   ],
   "metadata": {
    "collapsed": false
   }
  },
  {
   "cell_type": "code",
   "execution_count": 179,
   "outputs": [
    {
     "name": "stdout",
     "output_type": "stream",
     "text": [
      "[ 0.55324179  0.31491052 -0.10062787  1.99247386 -0.29858379 -0.28653737\n",
      " -0.34671033 -0.0400736   0.02174168  1.53906003 -0.59660925] \n",
      "\n",
      "0.04355679595181769 \n",
      "\n",
      "[ 0.4466442   0.29080993 -0.05661675  1.97262034 -0.22523788 -0.29580579\n",
      " -0.30362707 -0.10325783  0.06213262  1.55939151 -0.60079782] \n",
      "\n",
      "0.043636390600464744 \n",
      "\n"
     ]
    }
   ],
   "source": [
    "import autograd.numpy as np\n",
    "from autograd import grad\n",
    "D_goal_f = grad(goal_f) #исп. пакет autograd\n",
    "\n",
    "d = np.random.uniform(0, 1, A2.shape[1]+1)\n",
    "for i in range(steps):\n",
    "    gradient = D_goal_f(d)\n",
    "    d = d - gamma_ * gradient # изменение аргумента на текущей итерации\n",
    "print(d, '\\n')\n",
    "print(goal_f(d), '\\n')"
   ],
   "metadata": {
    "collapsed": false,
    "pycharm": {
     "name": "#%%\n"
    }
   }
  }
 ],
 "metadata": {
  "kernelspec": {
   "display_name": "Python 3",
   "language": "python",
   "name": "python3"
  },
  "language_info": {
   "codemirror_mode": {
    "name": "ipython",
    "version": 2
   },
   "file_extension": ".py",
   "mimetype": "text/x-python",
   "name": "python",
   "nbconvert_exporter": "python",
   "pygments_lexer": "ipython2",
   "version": "2.7.6"
  }
 },
 "nbformat": 4,
 "nbformat_minor": 0
}