{
 "cells": [
  {
   "cell_type": "code",
   "execution_count": 1,
   "metadata": {
    "collapsed": true
   },
   "outputs": [],
   "source": [
    "import numpy\n",
    "import numpy as np"
   ]
  },
  {
   "cell_type": "code",
   "execution_count": 2,
   "metadata": {
    "pycharm": {
     "name": "#%%\n"
    }
   },
   "outputs": [
    {
     "data": {
      "text/plain": "1"
     },
     "execution_count": 2,
     "metadata": {},
     "output_type": "execute_result"
    }
   ],
   "source": [
    "len('ИльяГребенкин') % 3"
   ]
  },
  {
   "cell_type": "markdown",
   "metadata": {
    "pycharm": {
     "name": "#%% md\n"
    }
   },
   "source": [
    "$$\\dot{u} = f(t, u)$$   $$(3)$$\n",
    "$$1.5y_n - 2y_{n-1} + 0.5y_{n-2} = \\tau f_n$$    $$(5)$$"
   ]
  },
  {
   "cell_type": "markdown",
   "source": [
    "VIII.1. (10) Найти порядок аппроксимации уравнения (3) разностной схемой (4), (5) или (6) (согласо указанию\n",
    "преподавателя)."
   ],
   "metadata": {
    "collapsed": false,
    "pycharm": {
     "name": "#%% md\n"
    }
   }
  },
  {
   "cell_type": "markdown",
   "source": [
    "<img src=\"picfour.jpg\" width=\"900\"/>"
   ],
   "metadata": {
    "collapsed": false
   }
  },
  {
   "cell_type": "markdown",
   "source": [
    "VIII.2. (5) Определить, является ли нуль-устойчивой схема (4), (5) или (6) (согласно указанию преподавателя)"
   ],
   "metadata": {
    "collapsed": false,
    "pycharm": {
     "name": "#%% md\n"
    }
   }
  },
  {
   "cell_type": "markdown",
   "source": [
    "$$1.5y_n - 2y_{n-1} + 0.5y_{n-2} = \\tau f_n$$    $$(5)$$\n",
    "$$y_n = \\lambda^n \\rightarrow \\frac{3}{2}-\\frac{2}{\\lambda}+\\frac{1}{2\\lambda^2} = 0$$\n",
    "$$3\\lambda^2-4\\lambda+1=0$$\n",
    "$$\\lambda_1 = 1 \\ \\ \\ \\ \\ \\lambda_2=\\frac{1}{3} $$\n",
    "$$y_n = C_1 \\cdot 1^n + C_2 \\cdot \\left(\\frac{1}{3}\\right)^n$$\n",
    "Т.к. $|\\lambda_i| \\leq 1$, причем $\\exists$ только 1 $\\lambda_k: |\\lambda_k|=1$, то решение нуль-устойчиво. Т.е., при появлении неточности из н.у., $\\sum_k{(C_k+\\varepsilon_k)\\lambda_k^n}$ остается близкой к $\\sum_k{C_k\\lambda_k^n}$ при неограниченном увеличении n"
   ],
   "metadata": {
    "collapsed": false,
    "pycharm": {
     "name": "#%% md\n"
    }
   }
  },
  {
   "cell_type": "markdown",
   "source": [
    "VIII.3. (15) Определить, является ли А-устойчивой схема (4), (5) или (6) (согласно указанию преподавателя)"
   ],
   "metadata": {
    "collapsed": false,
    "pycharm": {
     "name": "#%% md\n"
    }
   }
  },
  {
   "cell_type": "markdown",
   "source": [
    "$$Асимптотическая\\ устойчивость$$\n",
    "\"Тестовое уравнение\":\n",
    "\\begin{equation*}\n",
    "    \\begin{cases}\n",
    "       \\dot y &= \\lambda y \\\\\n",
    "       y(0)\\ &= y_0 \\\\\n",
    "    \\end{cases}\n",
    "\\end{equation*}\n",
    "$\\Rightarrow y = Ce^{\\lambda t}, \\ \\lambda < 0 \\Rightarrow \\lim _{t\\rightarrow \\infty} y =0$"
   ],
   "metadata": {
    "collapsed": false,
    "pycharm": {
     "name": "#%% md\n"
    }
   }
  },
  {
   "cell_type": "markdown",
   "source": [
    "Получим уравнение:\n",
    "$$1.5y_{n+2} - 2y_{n+1} + 0.5y_{n} = \\tau \\lambda y_{n+2}$$\n",
    "$$ (1.5-\\tau \\lambda)y_{n+2} - 2y_{n+1} + 0.5y_{n} = 0$$\n",
    "$$ y_n  := \\mu^n \\Rightarrow (1.5-\\tau \\lambda)\\mu^2 - 2\\mu + 0.5 = 0$$\n",
    "$$ \\mu = \\frac{2 \\pm \\sqrt{4-2(1.5-\\tau\\lambda)}}{2(1.5-\\tau \\lambda)}$$"
   ],
   "metadata": {
    "collapsed": false
   }
  },
  {
   "cell_type": "markdown",
   "source": [
    "$$\\mu_1 = \\frac{2 - \\sqrt{1-2\\tau\\lambda}}{3-2\\tau \\lambda}$$\n",
    "$$\\tau\\lambda := z:$$\n",
    "$$\\mu_1 = \\frac{2 - \\sqrt{1-2z}}{3-2z}$$\n",
    "$$\\left|\\frac{2 - \\sqrt{1-2z}}{3-2z}\\right| \\leq 1$$\n"
   ],
   "metadata": {
    "collapsed": false
   }
  },
  {
   "cell_type": "markdown",
   "source": [
    "$$\\mu_2 = \\frac{2 + \\sqrt{1-2\\tau\\lambda}}{3-2\\tau \\lambda}$$\n",
    "$$\\tau\\lambda := z:$$\n",
    "$$\\mu_2 = \\frac{2 + \\sqrt{1-2z}}{3-2z}$$\n",
    "$$\\left|\\frac{2 + \\sqrt{1-2z}}{3-2z}\\right| \\leq 1$$\n"
   ],
   "metadata": {
    "collapsed": false,
    "pycharm": {
     "name": "#%% md\n"
    }
   }
  },
  {
   "cell_type": "code",
   "execution_count": 3,
   "outputs": [
    {
     "name": "stderr",
     "output_type": "stream",
     "text": [
      "c:\\users\\acer\\appdata\\local\\programs\\python\\python39\\lib\\site-packages\\matplotlib\\contour.py:1504: ComplexWarning: Casting complex values to real discards the imaginary part\n",
      "  y = np.asarray(y, dtype=np.float64)\n",
      "c:\\users\\acer\\appdata\\local\\programs\\python\\python39\\lib\\site-packages\\numpy\\ma\\core.py:2829: ComplexWarning: Casting complex values to real discards the imaginary part\n",
      "  _data = np.array(data, dtype=dtype, copy=copy,\n",
      "C:\\Users\\acer\\AppData\\Local\\Temp\\ipykernel_9020\\1537138578.py:16: UserWarning: No contour levels were found within the data range.\n",
      "  plt.contour(x, y, z_2, [0])\n"
     ]
    },
    {
     "data": {
      "text/plain": "<Figure size 432x288 with 1 Axes>",
      "image/png": "[encoded data removed]"
     },
     "metadata": {
      "needs_background": "light"
     },
     "output_type": "display_data"
    },
    {
     "name": "stdout",
     "output_type": "stream",
     "text": [
      "[[1.22647525+0.j 1.22737905+0.j 1.22828817+0.j ... 1.17559646+0.j\n",
      "  1.17283942+0.j 1.17010863+0.j]\n",
      " [1.22742401+0.j 1.2283492 +0.j 1.22928032+0.j ... 1.17613878+0.j\n",
      "  1.17330739+0.j 1.17050498+0.j]\n",
      " [1.22836749+0.j 1.22931421+0.j 1.23026751+0.j ... 1.17665827+0.j\n",
      "  1.1737501 +0.j 1.17087386+0.j]\n",
      " ...\n",
      " [1.22836749+0.j 1.22931421+0.j 1.23026751+0.j ... 1.17665827+0.j\n",
      "  1.1737501 +0.j 1.17087386+0.j]\n",
      " [1.22742401+0.j 1.2283492 +0.j 1.22928032+0.j ... 1.17613878+0.j\n",
      "  1.17330739+0.j 1.17050498+0.j]\n",
      " [1.22647525+0.j 1.22737905+0.j 1.22828817+0.j ... 1.17559646+0.j\n",
      "  1.17283942+0.j 1.17010863+0.j]]\n"
     ]
    }
   ],
   "source": [
    "import matplotlib.pyplot as plt\n",
    "from numpy.lib.scimath import sqrt as csqrt\n",
    "\n",
    "x = np.linspace(-5, 5, 100)\n",
    "y = np.linspace(-5, 5, 100)\n",
    "y = y.astype(complex)\n",
    "# y = y*1j\n",
    "z = np.zeros((len(x), len(x)))\n",
    "z = z.astype(complex)\n",
    "z_2 = np.copy(z)\n",
    "for i in range(len(x)):\n",
    "    for j in range(len(x)):\n",
    "        z_2[i][j] = (np.absolute(2 + csqrt(1-2*(x[j]+ 1j*y[i])) / (3 - 2*(x[j]+ 1j*y[i]))) - 1)\n",
    "        z[i][j] = (np.absolute(2 - csqrt(1-2*(x[j]+ 1j*y[i])) / (3 - 2*(x[j]+ 1j*y[i]))) - 1)\n",
    "        # z[i][j] = -1+2* (x[i]+y[j]) - np.sqrt(1-2*(x[i]+y[j]))\n",
    "plt.contour(x, y, z_2, [0])\n",
    "# plt.show()\n",
    "plt.contour(x, y, z, [0])\n",
    "plt.show()\n",
    "print(z_2)"
   ],
   "metadata": {
    "collapsed": false,
    "pycharm": {
     "name": "#%%\n"
    }
   }
  },
  {
   "cell_type": "markdown",
   "source": [
    "Подходит вся левая полуплоскость => А-устойчиво"
   ],
   "metadata": {
    "collapsed": false,
    "pycharm": {
     "name": "#%% md\n"
    }
   }
  },
  {
   "cell_type": "markdown",
   "source": [
    "VIII.4. (15) Рассмотрим задачу для Коши дифференциального уравнения на функцию $u(t)$\n",
    "$$\n",
    "\\frac{d u}{d t}=\\frac{1}{u}\n",
    "$$\n",
    "с начальным условием $u(t=0)=1$ на интервале $0 \\leq t \\leq 5$.\n",
    "Составить в явном виде расчетные формулы неявного методом Эйлера для данной задачи. Найти порядок аппроксимации схемы. Используя схему с постоянным шагом $\\tau=0.1$, построить численное решение. Сравнить с точным решением задачи Коши."
   ],
   "metadata": {
    "collapsed": false
   }
  },
  {
   "cell_type": "markdown",
   "source": [
    "<img src=\"pictwo.jpg\" height=\"900\"/>"
   ],
   "metadata": {
    "collapsed": false
   }
  },
  {
   "cell_type": "markdown",
   "source": [
    "<img src=\"picthree.jpg\" width=\"600\"/>\n",
    "\n",
    "Получили, что порядок аппроксимации = 1"
   ],
   "metadata": {
    "collapsed": false
   }
  },
  {
   "cell_type": "markdown",
   "source": [
    "<img src=\"picone.jpg\" width=\"600\"/>"
   ],
   "metadata": {
    "collapsed": false
   }
  },
  {
   "cell_type": "code",
   "execution_count": 4,
   "outputs": [],
   "source": [
    "t = 0.1\n",
    "T = 5\n",
    "n = int(T / t)\n",
    "u0 = 1.\n",
    "u = np.zeros(n)\n",
    "u[0] = u0\n",
    "# U = 1.\n",
    "for i in range(1, n):\n",
    "    u_ = (u[i - 1] + np.sqrt(u[i - 1] ** 2 + 4 * t)) / 2\n",
    "    # U_ = (u - np.sqrt(u**2 + 4*u*t)) / 2 не нужен по н.у.\n",
    "    u[i] = u_\n",
    "    # U = U_\n",
    "# print(u)\n",
    "# print(U)\n",
    "# print(np.sqrt(2*5+1))"
   ],
   "metadata": {
    "collapsed": false,
    "pycharm": {
     "name": "#%%\n"
    }
   }
  },
  {
   "cell_type": "code",
   "execution_count": 5,
   "outputs": [
    {
     "data": {
      "text/plain": "<Figure size 432x288 with 1 Axes>",
      "image/png": "[encoded data removed]"
     },
     "metadata": {
      "needs_background": "light"
     },
     "output_type": "display_data"
    }
   ],
   "source": [
    "xx = np.linspace(0, 5, n)\n",
    "yy = np.zeros_like(xx)\n",
    "uy = np.copy(u)\n",
    "yy[:] = np.sqrt(2 * xx[:] + 1)\n",
    "plt.plot(xx, yy, label='true solution')\n",
    "plt.plot(xx, uy, label='numerical solution')\n",
    "plt.legend(loc='best')\n",
    "plt.show()"
   ],
   "metadata": {
    "collapsed": false,
    "pycharm": {
     "name": "#%%\n"
    }
   }
  },
  {
   "cell_type": "code",
   "execution_count": 6,
   "outputs": [
    {
     "data": {
      "text/plain": "0.014480687517946397"
     },
     "execution_count": 6,
     "metadata": {},
     "output_type": "execute_result"
    }
   ],
   "source": [
    "(-u[-1] + yy[-1]) / [yy[-1]][0]  #abs err"
   ],
   "metadata": {
    "collapsed": false,
    "pycharm": {
     "name": "#%%\n"
    }
   }
  }
 ],
 "metadata": {
  "kernelspec": {
   "display_name": "Python 3",
   "language": "python",
   "name": "python3"
  },
  "language_info": {
   "codemirror_mode": {
    "name": "ipython",
    "version": 3
   },
   "file_extension": ".py",
   "mimetype": "text/x-python",
   "name": "python",
   "nbconvert_exporter": "python",
   "pygments_lexer": "ipython3",
   "version": "3.8.5"
  }
 },
 "nbformat": 4,
 "nbformat_minor": 1
}