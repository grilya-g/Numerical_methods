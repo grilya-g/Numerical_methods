{
 "cells": [
  {
   "cell_type": "markdown",
   "metadata": {},
   "source": [
    "Before you turn this problem in, make sure everything runs as expected. First, **restart the kernel** (in the menubar, select Kernel$\\rightarrow$Restart) and then **run all cells** (in the menubar, select Cell$\\rightarrow$Run All).\n",
    "\n",
    "Make sure you fill in any place that says `YOUR CODE HERE` or \"YOUR ANSWER HERE\", as well as your name and collaborators below:"
   ]
  },
  {
   "cell_type": "code",
   "execution_count": null,
   "metadata": {},
   "outputs": [],
   "source": [
    "NAME = \"\"\n",
    "COLLABORATORS = \"\""
   ]
  },
  {
   "cell_type": "markdown",
   "metadata": {},
   "source": [
    "---"
   ]
  },
  {
   "cell_type": "markdown",
   "metadata": {
    "deletable": false,
    "editable": false,
    "nbgrader": {
     "cell_type": "markdown",
     "checksum": "4df5807a6db3bca4ea7efdb8587bed6f",
     "grade": false,
     "grade_id": "cell-a447dffd805a4cc1",
     "locked": true,
     "schema_version": 3,
     "solution": false,
     "task": false
    }
   },
   "source": [
    "# Midpoint rule for computing integrals\n",
    "\n",
    "Implement a routine to compute an integral \n",
    "\n",
    "$$\n",
    "\\int_a^b\\! f(x)\\,dx\n",
    "$$\n",
    "\n",
    "for a given $f(x)$ and integration limits $a$ and $b$, using the midpoint rule. Use a uniform mesh with $N$ elementary intervals."
   ]
  },
  {
   "cell_type": "code",
   "execution_count": 13,
   "metadata": {
    "deletable": false,
    "nbgrader": {
     "cell_type": "code",
     "checksum": "5989ab4d3a1cb0e2a847aeef2fb05668",
     "grade": false,
     "grade_id": "cell-3ef900f068bb3019",
     "locked": false,
     "schema_version": 3,
     "solution": true,
     "task": false
    }
   },
   "outputs": [],
   "source": [
    "def midpoint_rule(func, a, b, n):\n",
    "    r\"\"\"Calculate the integral of `func` from `a` to `b` using the midpoint rule.\n",
    "    \n",
    "    Parameters\n",
    "    ----------\n",
    "    func : callable\n",
    "        The function to integrate.\n",
    "    a : float\n",
    "        The lower limit of integration.\n",
    "    b : float\n",
    "        The upper limit of integration.\n",
    "    n : int\n",
    "        The number of intervals\n",
    "        \n",
    "    Returns\n",
    "    -------\n",
    "    integral : float\n",
    "        The estimate of $\\int_a^b f(x) dx$.\n",
    "    \"\"\"\n",
    "    n = n + 1\n",
    "    integral = 0\n",
    "\n",
    "    for i in range(n):\n",
    "        x_mid = (b - a) / n * (.5 + i)\n",
    "        integral += func(x_mid)\n",
    "\n",
    "    integral = integral * (b - a) / n\n",
    "\n",
    "    return integral"
   ]
  },
  {
   "cell_type": "code",
   "execution_count": 14,
   "metadata": {
    "deletable": false,
    "editable": false,
    "nbgrader": {
     "cell_type": "code",
     "checksum": "dff450cd8550e0d70bec2e4673d56006",
     "grade": true,
     "grade_id": "cell-cbeae844a78a6cda",
     "locked": true,
     "points": 5,
     "schema_version": 3,
     "solution": false,
     "task": false
    }
   },
   "outputs": [],
   "source": [
    "# Test your routine\n",
    "\n",
    "import numpy as np\n",
    "from numpy.testing import assert_allclose\n",
    "\n",
    "assert_allclose(midpoint_rule(lambda x: x ** 3, 0, 1, 100),\n",
    "                1 / 4, atol=1e-3)\n",
    "assert_allclose(midpoint_rule(lambda x: x ** 3, 0, 1, 1000),\n",
    "                1 / 4, atol=1e-5)"
   ]
  },
  {
   "cell_type": "markdown",
   "metadata": {
    "deletable": false,
    "editable": false,
    "nbgrader": {
     "cell_type": "markdown",
     "checksum": "a253b707f80fde937cde1fd3601499e6",
     "grade": false,
     "grade_id": "cell-c7d891f971656d51",
     "locked": true,
     "schema_version": 3,
     "solution": false,
     "task": false
    }
   },
   "source": [
    "Apply your routine to a simple function, where you can easily calculate the exact answer with paper and pencil. \n",
    "Study the error (i.e., the difference between the numerical estimate and an exact answer) at varying number of mesh points, $N$. What is the scaling of the error with $N$, is it $O(1/N)$ or $O(1/N^2)$ or something else? "
   ]
  },
  {
   "cell_type": "code",
   "execution_count": 15,
   "metadata": {},
   "outputs": [
    {
     "name": "stdout",
     "output_type": "stream",
     "text": [
      "    10 -- -0.001033\n",
      "   100 -- -1.225e-05\n",
      "  1000 -- -1.248e-07\n",
      " 10000 -- -1.25e-09\n",
      "100000 -- -1.25e-11\n"
     ]
    }
   ],
   "source": [
    "for n in [10, 100, 1000, 10000, 100000]:\n",
    "    err = midpoint_rule(lambda x: x ** 3, 0, 1, n) - 0.25\n",
    "    print(\"%6d -- %7.4g\" % (n, err))"
   ]
  },
  {
   "cell_type": "markdown",
   "metadata": {
    "deletable": false,
    "editable": false,
    "nbgrader": {
     "cell_type": "markdown",
     "checksum": "ae35dfb66a9622971f93f29c6ef0082d",
     "grade": false,
     "grade_id": "cell-413e23e7b7a61c7c",
     "locked": true,
     "schema_version": 3,
     "solution": false,
     "task": false
    }
   },
   "source": [
    "## Integrable singularities\n",
    "\n",
    "Now consider a more complicated intergral which has an integrable singularity at the lower limit of integration:\n",
    "\n",
    "\n",
    "$$\n",
    "I = \\int_0^1\\! \\frac{\\sin\\sqrt{x}}{x}\\,dx\n",
    "$$\n",
    "\n",
    "\n",
    "Applying your midpoint rule routine, we note that the convergence is rather poor."
   ]
  },
  {
   "cell_type": "code",
   "execution_count": 16,
   "metadata": {
    "deletable": false,
    "editable": false,
    "nbgrader": {
     "cell_type": "code",
     "checksum": "ee6929a52bd1fba3ad221d4dc77cafbc",
     "grade": false,
     "grade_id": "cell-ec787f781cac2c32",
     "locked": true,
     "schema_version": 3,
     "solution": false,
     "task": false
    }
   },
   "outputs": [],
   "source": [
    "from math import sin, sqrt\n",
    "\n",
    "\n",
    "def func(x):\n",
    "    return sin(sqrt(x)) / x"
   ]
  },
  {
   "cell_type": "code",
   "execution_count": 17,
   "metadata": {
    "deletable": false,
    "editable": false,
    "nbgrader": {
     "cell_type": "code",
     "checksum": "daff1989abe4e5b1052aef0349343d9c",
     "grade": false,
     "grade_id": "cell-9dfd21dd976408a1",
     "locked": true,
     "schema_version": 3,
     "solution": false,
     "task": false
    }
   },
   "outputs": [
    {
     "name": "stdout",
     "output_type": "stream",
     "text": [
      "the 'ground truth' value : 1.892166  \n",
      "\n"
     ]
    }
   ],
   "source": [
    "# Use a black-box library routine to compute the \"ground truth\" answer\n",
    "from scipy.integrate import quad\n",
    "\n",
    "q, err = quad(func, 0, 1)\n",
    "print(\"the 'ground truth' value : %6f \" % q, \"\\n\")"
   ]
  },
  {
   "cell_type": "code",
   "execution_count": 18,
   "metadata": {
    "deletable": false,
    "editable": false,
    "nbgrader": {
     "cell_type": "code",
     "checksum": "d0b62fd20c7b222dab7329a9e643211b",
     "grade": false,
     "grade_id": "cell-4f6a21feab0ff180",
     "locked": true,
     "schema_version": 3,
     "solution": false,
     "task": false
    }
   },
   "outputs": [
    {
     "name": "stdout",
     "output_type": "stream",
     "text": [
      "     N     error\n",
      "    10 --  -0.182\n",
      "   100 -- -0.0602\n",
      "  1000 -- -0.0191\n",
      " 10000 -- -0.00605\n",
      "100000 -- -0.00191\n"
     ]
    }
   ],
   "source": [
    "# Use the `midpoint_rule`\n",
    "\n",
    "print(\"     N     error\")\n",
    "for n in [10, 100, 1000, 10000, 100000]:\n",
    "    val = midpoint_rule(func, 0, 1, n)\n",
    "    print(\"%6d -- %7.3g\" % (n, val - q))"
   ]
  },
  {
   "cell_type": "markdown",
   "metadata": {
    "deletable": false,
    "editable": false,
    "nbgrader": {
     "cell_type": "markdown",
     "checksum": "a5d3d658b50fcccdfd949bfae6269d96",
     "grade": false,
     "grade_id": "cell-a715ee9d6422c7b4",
     "locked": true,
     "schema_version": 3,
     "solution": false,
     "task": false
    }
   },
   "source": [
    "To improve convergence, we can use the following trick: add and subtract the integral of some auxilliary function, so that the original integral $I$ splits into two integrals: one is regular and singularity-free, and the other one is easy to work out with paper and pencil. Use your `midpoint_rule` routine for the regular part."
   ]
  },
  {
   "cell_type": "code",
   "execution_count": 24,
   "outputs": [],
   "source": [
    "def Int(x):\n",
    "    return (np.sin(np.sqrt(x)) - np.sqrt(x)) / x"
   ],
   "metadata": {
    "collapsed": false,
    "pycharm": {
     "name": "#%%\n"
    }
   }
  },
  {
   "cell_type": "code",
   "execution_count": 29,
   "metadata": {
    "deletable": false,
    "nbgrader": {
     "cell_type": "code",
     "checksum": "35638de609f438ca0f2b8b713ab4165c",
     "grade": false,
     "grade_id": "cell-74ec9b4b3d616204",
     "locked": false,
     "schema_version": 3,
     "solution": true,
     "task": false
    }
   },
   "outputs": [],
   "source": [
    "def compute_I(n):\n",
    "    \"\"\"Compute the integral $I$ using the midpoint rule. Subtract the singularity.\n",
    "    \n",
    "    Parameters\n",
    "    ----------\n",
    "    n : int\n",
    "       The number of elementary intervals.\n",
    "       \n",
    "    Returns\n",
    "    -------\n",
    "    the estimate for the integral $I$.\n",
    "    \"\"\"\n",
    "\n",
    "    I = 2\n",
    "    I += midpoint_rule(Int, 0, 1, n)\n",
    "\n",
    "    return I"
   ]
  },
  {
   "cell_type": "code",
   "execution_count": 30,
   "metadata": {
    "deletable": false,
    "editable": false,
    "nbgrader": {
     "cell_type": "code",
     "checksum": "48a938912fc17946d451a5ba2852844b",
     "grade": true,
     "grade_id": "cell-191d162ba56af396",
     "locked": true,
     "points": 5,
     "schema_version": 3,
     "solution": false,
     "task": false
    }
   },
   "outputs": [],
   "source": [
    "q, err = quad(func, 0, 1)\n",
    "\n",
    "# Test that your improved routine performs better than the naive application of the midpoint rule. \n",
    "#\n",
    "# NOTE that your function should use your midpoint rule routine and\n",
    "# it **must not** use library functions (`quad` et al).\n",
    "#\n",
    "\n",
    "for n in [10, 100, 1000]:\n",
    "    naive = midpoint_rule(func, 0, 1, n)\n",
    "    improved = compute_I(n)\n",
    "    assert abs(improved - q) < abs(naive - q)\n",
    "\n",
    "assert_allclose(compute_I(100), q, atol=1e-3)\n",
    "assert_allclose(compute_I(1000), q, atol=1e-6)"
   ]
  },
  {
   "cell_type": "code",
   "execution_count": null,
   "outputs": [],
   "source": [],
   "metadata": {
    "collapsed": false,
    "pycharm": {
     "name": "#%%\n"
    }
   }
  }
 ],
 "metadata": {
  "kernelspec": {
   "display_name": "Python 3",
   "language": "python",
   "name": "python3"
  },
  "language_info": {
   "codemirror_mode": {
    "name": "ipython",
    "version": 3
   },
   "file_extension": ".py",
   "mimetype": "text/x-python",
   "name": "python",
   "nbconvert_exporter": "python",
   "pygments_lexer": "ipython3",
   "version": "3.8.10"
  }
 },
 "nbformat": 4,
 "nbformat_minor": 5
}