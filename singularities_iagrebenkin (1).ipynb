{
 "cells": [
  {
   "cell_type": "markdown",
   "metadata": {},
   "source": [
    "Before you turn this problem in, make sure everything runs as expected. First, **restart the kernel** (in the menubar, select Kernel$\\rightarrow$Restart) and then **run all cells** (in the menubar, select Cell$\\rightarrow$Run All).\n",
    "\n",
    "Make sure you fill in any place that says `YOUR CODE HERE` or \"YOUR ANSWER HERE\", as well as your name and collaborators below:"
   ]
  },
  {
   "cell_type": "code",
   "execution_count": 1,
   "metadata": {},
   "outputs": [],
   "source": [
    "NAME = \"Ilya Grebenkin\"\n",
    "COLLABORATORS = \"-\""
   ]
  },
  {
   "cell_type": "code",
   "execution_count": 1,
   "metadata": {},
   "outputs": [],
   "source": [
    "import numpy as np"
   ]
  },
  {
   "cell_type": "markdown",
   "metadata": {},
   "source": [
    "---"
   ]
  },
  {
   "cell_type": "markdown",
   "metadata": {
    "deletable": false,
    "editable": false,
    "nbgrader": {
     "cell_type": "markdown",
     "checksum": "fb5c96d8c964fb45ec72c7f7fc98c42e",
     "grade": false,
     "grade_id": "cell-6250fa764b3a098c",
     "locked": true,
     "schema_version": 3,
     "solution": false,
     "task": false
    }
   },
   "source": [
    "# Integrable singularities\n",
    "\n",
    "Compue the integral\n",
    "\n",
    "$$\n",
    "I = \\int_{0}^{1}\\frac{e^x}{\\sqrt{x(1-x)}}dx.\n",
    "$$\n",
    "\n",
    "using the trapezoid formula. Note that the integrand diverges at the integration limits and the singularities are integrable (the integral itself exists). So, you will need to subtract these singularities.\n",
    "\n",
    "The following integrals might be useful:\n",
    "\n",
    "$$\n",
    "\\int_0^1 \\frac{1}{\\sqrt{x (1-x)}} \\, dx=\\pi,\\quad \\int_0^1 \\frac{x}{\\sqrt{x (1-x)}} \\, dx=\\pi/2.\n",
    "$$"
   ]
  },
  {
   "cell_type": "markdown",
   "metadata": {
    "deletable": false,
    "editable": false,
    "nbgrader": {
     "cell_type": "markdown",
     "checksum": "3c3c338a25bb2f6cd18e02eee09bc82d",
     "grade": false,
     "grade_id": "cell-8f2608864459aa2d",
     "locked": true,
     "points": 10,
     "schema_version": 3,
     "solution": false,
     "task": true
    }
   },
   "source": [
    "Transform the integral to subtract the singularities. Write out the formulas in the cell below (5pt, manual grading)."
   ]
  },
  {
   "cell_type": "markdown",
   "metadata": {},
   "source": [
    "$$\n",
    "\\int_{0}^{1}\\frac{e^x}{\\sqrt{x(1-x)}}dx = \\int_{0}^{1/2}\\frac{e^x}{\\sqrt{x(1-x)}}dx + \\int_{1/2}^{1}\\frac{e^x}{\\sqrt{x(1-x)}}dx = \\int_{0}^{1/2}\\frac{e^x - (1+x+\\frac{x^2}{2})}{\\sqrt{x(1-x)}}dx + \\int_{0}^{1/2}\\frac{1+x+\\frac{x^2}{2}}{\\sqrt{x(1-x)}}dx + e \\cdot  \\int_{0}^{1/2}\\frac{e^{-y}}{\\sqrt{y(1-y)}}dy = \\int_{0}^{1/2}\\frac{e^x - (1+x+\\frac{x^2}{2})}{\\sqrt{x(1-x)}}dx + \\int_{0}^{1/2}\\frac{1+x+\\frac{x^2}{2}}{\\sqrt{x(1-x)}}dx + e \\cdot  \\int_{0}^{1/2}\\frac{e^{-y} - (1-y-\\frac{y^2}{2})}{\\sqrt{y(1-y)}}dy + e \\cdot \\int_{0}^{1/2}\\frac{1-y-\\frac{y^2}{2}}{\\sqrt{y(1-y)}}dy\n",
    "$$"
   ]
  },
  {
   "cell_type": "code",
   "execution_count": 2,
   "metadata": {},
   "outputs": [],
   "source": [
    "def I1(x):\n",
    "    return (np.exp(x) - (1 + x + x**2/2)) / (x * (1 - x))**0.5\n",
    "\n",
    "def I2(x):\n",
    "    return (np.exp(-x) - (1 - x - x**2/2)) / (x * (1 - x))**0.5"
   ]
  },
  {
   "cell_type": "markdown",
   "metadata": {
    "deletable": false,
    "editable": false,
    "nbgrader": {
     "cell_type": "markdown",
     "checksum": "9a7f787065324defbd03f0e15c74623b",
     "grade": false,
     "grade_id": "cell-6d3b9f7e6261b99a",
     "locked": true,
     "schema_version": 3,
     "solution": false,
     "task": false
    }
   },
   "source": [
    "Write a function which computes the value of the integrals using the trapezoid rule."
   ]
  },
  {
   "cell_type": "code",
   "execution_count": 3,
   "metadata": {
    "deletable": false,
    "nbgrader": {
     "cell_type": "code",
     "checksum": "2067db26be5e9267e87e43723fd66b74",
     "grade": false,
     "grade_id": "cell-9e8a974c206201a3",
     "locked": false,
     "schema_version": 3,
     "solution": true,
     "task": false
    }
   },
   "outputs": [],
   "source": [
    "def integ(npts=10):\n",
    "    \"\"\"Compute the value of the integral above.\n",
    "    \n",
    "    Subtract the singularities and use the trapezoid rule. \n",
    "    \n",
    "    Parameters\n",
    "    ----------\n",
    "    npts : int\n",
    "        The number of points for the trapezoid rule\n",
    "        \n",
    "    Returns\n",
    "    -------\n",
    "    I : float\n",
    "       The computed value of the integral\n",
    "    \"\"\"\n",
    "     \n",
    "    h = 1/2 - 0\n",
    "    I = (I1(0) + I2(0) + I1(1/2) + I2(1/2)) / 2  \n",
    "    for i in range (1, npts-1):\n",
    "        I += I1(i*(h/npts))\n",
    "        I += I2(i*(h/npts))\n",
    "    I /= npts\n",
    "    \n",
    "    I -= (1.625 + 0.375)\n",
    "    \n",
    "    return I"
   ]
  },
  {
   "cell_type": "code",
   "execution_count": 4,
   "metadata": {
    "deletable": false,
    "editable": false,
    "nbgrader": {
     "cell_type": "code",
     "checksum": "843a7710bd2d005e2e7bd4baecfb9730",
     "grade": true,
     "grade_id": "cell-d30dfbfd2e3409f2",
     "locked": true,
     "points": 10,
     "schema_version": 3,
     "solution": false,
     "task": false
    }
   },
   "outputs": [],
   "source": [
    "# this is a test to check your computed value\n",
    "from numpy.testing import assert_allclose\n"
   ]
  },
  {
   "cell_type": "code",
   "execution_count": null,
   "metadata": {},
   "outputs": [],
   "source": []
  }
 ],
 "metadata": {
  "kernelspec": {
   "display_name": "Python 3",
   "language": "python",
   "name": "python3"
  },
  "language_info": {
   "codemirror_mode": {
    "name": "ipython",
    "version": 3
   },
   "file_extension": ".py",
   "mimetype": "text/x-python",
   "name": "python",
   "nbconvert_exporter": "python",
   "pygments_lexer": "ipython3",
   "version": "3.8.5"
  }
 },
 "nbformat": 4,
 "nbformat_minor": 5
}
