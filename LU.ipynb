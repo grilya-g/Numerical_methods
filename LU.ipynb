{
 "cells": [
  {
   "cell_type": "markdown",
   "metadata": {},
   "source": [
    "Before you turn this problem in, make sure everything runs as expected. First, **restart the kernel** (in the menubar, select Kernel$\\rightarrow$Restart) and then **run all cells** (in the menubar, select Cell$\\rightarrow$Run All).\n",
    "\n",
    "Make sure you fill in any place that says `YOUR CODE HERE` or \"YOUR ANSWER HERE\", as well as your name and collaborators below:"
   ]
  },
  {
   "cell_type": "code",
   "execution_count": null,
   "metadata": {},
   "outputs": [],
   "source": [
    "NAME = \"Ilya Grebenkin\"\n",
    "COLLABORATORS = \"-\""
   ]
  },
  {
   "cell_type": "markdown",
   "metadata": {},
   "source": [
    "---"
   ]
  },
  {
   "cell_type": "markdown",
   "metadata": {
    "deletable": false,
    "editable": false,
    "nbgrader": {
     "cell_type": "markdown",
     "checksum": "b62c7560345a5234f7fb7867517f78e1",
     "grade": false,
     "grade_id": "cell-c94465944d7d67c7",
     "locked": true,
     "schema_version": 3,
     "solution": false,
     "task": false
    }
   },
   "source": [
    "# I. $LU$ factorization of a square matrix"
   ]
  },
  {
   "cell_type": "markdown",
   "metadata": {
    "deletable": false,
    "editable": false,
    "nbgrader": {
     "cell_type": "markdown",
     "checksum": "381378b93aaec6cf5d77a5f78805cbda",
     "grade": false,
     "grade_id": "cell-eb6000fbe2dd8cb5",
     "locked": true,
     "schema_version": 3,
     "solution": false,
     "task": false
    }
   },
   "source": [
    "Consider a simple naive implementation of the LU decomposition. \n",
    "\n",
    "Note that we're using the `numpy` arrays to represent matrices [do **not** use `np.matrix`]."
   ]
  },
  {
   "cell_type": "code",
   "execution_count": null,
   "metadata": {
    "deletable": false,
    "editable": false,
    "nbgrader": {
     "cell_type": "code",
     "checksum": "89b4ffaf708a8dee5ca11f153e0cd9be",
     "grade": false,
     "grade_id": "cell-05558de8e4fe3d52",
     "locked": true,
     "schema_version": 3,
     "solution": false,
     "task": false
    }
   },
   "outputs": [],
   "source": [
    "import numpy as np\n",
    "\n",
    "def diy_lu(a):\n",
    "    \"\"\"Construct the LU decomposition of the input matrix.\n",
    "    \n",
    "    Naive LU decomposition: work column by column, accumulate elementary triangular matrices.\n",
    "    No pivoting.\n",
    "    \"\"\"\n",
    "    N = a.shape[0]\n",
    "    \n",
    "    u = a.copy()\n",
    "    L = np.eye(N)\n",
    "    for j in range(N-1):\n",
    "        lam = np.eye(N)\n",
    "        gamma = u[j+1:, j] / u[j, j]\n",
    "        lam[j+1:, j] = -gamma\n",
    "        u = lam @ u\n",
    "\n",
    "        lam[j+1:, j] = gamma\n",
    "        L = L @ lam\n",
    "    return L, u"
   ]
  },
  {
   "cell_type": "code",
   "execution_count": null,
   "metadata": {
    "deletable": false,
    "editable": false,
    "nbgrader": {
     "cell_type": "code",
     "checksum": "ed3331a04f170c72a642bb5ab09065d0",
     "grade": false,
     "grade_id": "cell-206e605b5fe9746a",
     "locked": true,
     "schema_version": 3,
     "solution": false,
     "task": false
    }
   },
   "outputs": [],
   "source": [
    "# Now, generate a full rank matrix and test the naive implementation\n",
    "import numpy as np\n",
    "\n",
    "N = 6\n",
    "a = np.zeros((N, N), dtype=float)\n",
    "for i in range(N):\n",
    "    for j in range(N):\n",
    "        a[i, j] = 3. / (0.6*i*j + 1)\n",
    "\n",
    "L,U = diy_lu(a)\n",
    "\n",
    "np.linalg.matrix_rank(a)"
   ]
  },
  {
   "cell_type": "code",
   "execution_count": null,
   "metadata": {
    "deletable": false,
    "editable": false,
    "nbgrader": {
     "cell_type": "code",
     "checksum": "90bf09676cb549ad1f62f6571729e1ed",
     "grade": false,
     "grade_id": "cell-776c713bbc30f2ad",
     "locked": true,
     "schema_version": 3,
     "solution": false,
     "task": false
    }
   },
   "outputs": [],
   "source": [
    "# Tweak the printing of floating-point numbers, for clarity\n",
    "np.set_printoptions(precision=3)"
   ]
  },
  {
   "cell_type": "code",
   "execution_count": null,
   "metadata": {
    "deletable": false,
    "editable": false,
    "nbgrader": {
     "cell_type": "code",
     "checksum": "48b3de9f0d4378b5fcce69ccb690c93a",
     "grade": false,
     "grade_id": "cell-834568ce33f5799c",
     "locked": true,
     "schema_version": 3,
     "solution": false,
     "task": false
    }
   },
   "outputs": [],
   "source": [
    "L, u = diy_lu(a)\n",
    "print(L, \"\\n\")\n",
    "print(u, \"\\n\")\n",
    "\n",
    "# Quick sanity check: L times U must equal the original matrix, up to floating-point errors.\n",
    "print(a-L@u)"
   ]
  },
  {
   "cell_type": "markdown",
   "metadata": {
    "deletable": false,
    "editable": false,
    "nbgrader": {
     "cell_type": "markdown",
     "checksum": "202b64a283abc1f186cd8017bb784b20",
     "grade": false,
     "grade_id": "cell-5f461bdf3dab7d0e",
     "locked": true,
     "schema_version": 3,
     "solution": false,
     "task": false
    }
   },
   "source": [
    "# II. The need for pivoting\n",
    "\n",
    "Let's tweak the matrix a little bit, we only change a single element:"
   ]
  },
  {
   "cell_type": "code",
   "execution_count": null,
   "metadata": {
    "deletable": false,
    "editable": false,
    "nbgrader": {
     "cell_type": "code",
     "checksum": "637d91a18a4afd8a6908d84f82aa1698",
     "grade": false,
     "grade_id": "cell-d6999ec9614fc180",
     "locked": true,
     "schema_version": 3,
     "solution": false,
     "task": false
    }
   },
   "outputs": [],
   "source": [
    "a1 = a.copy()\n",
    "a1[1, 1] = 3\n",
    "print(a1)"
   ]
  },
  {
   "cell_type": "markdown",
   "metadata": {
    "deletable": false,
    "editable": false,
    "nbgrader": {
     "cell_type": "markdown",
     "checksum": "8f00ce7b732b9dff4b788fcc72a4b878",
     "grade": false,
     "grade_id": "cell-7a53534efcebc6b3",
     "locked": true,
     "schema_version": 3,
     "solution": false,
     "task": false
    }
   },
   "source": [
    "Resulting matix still has full rank, but the naive LU routine breaks down."
   ]
  },
  {
   "cell_type": "code",
   "execution_count": null,
   "metadata": {
    "deletable": false,
    "editable": false,
    "nbgrader": {
     "cell_type": "code",
     "checksum": "d14381e7c77405237c393b160cd2aa7d",
     "grade": false,
     "grade_id": "cell-19ebbd11505a4df5",
     "locked": true,
     "schema_version": 3,
     "solution": false,
     "task": false
    }
   },
   "outputs": [],
   "source": [
    "np.linalg.matrix_rank(a1)"
   ]
  },
  {
   "cell_type": "code",
   "execution_count": null,
   "metadata": {
    "deletable": false,
    "editable": false,
    "nbgrader": {
     "cell_type": "code",
     "checksum": "c15ff1619d0bbdc8137bd73a8a4e7882",
     "grade": false,
     "grade_id": "cell-38b248ff53e6f15e",
     "locked": true,
     "schema_version": 3,
     "solution": false,
     "task": false
    }
   },
   "outputs": [],
   "source": [
    "l, u = diy_lu(a1)\n",
    "\n",
    "print(l, u, sep='\\n')"
   ]
  },
  {
   "cell_type": "markdown",
   "metadata": {
    "deletable": false,
    "editable": false,
    "nbgrader": {
     "cell_type": "markdown",
     "checksum": "1d3f650e0cdb2d355da11bba107b0514",
     "grade": false,
     "grade_id": "cell-bc8216fec2166c04",
     "locked": true,
     "schema_version": 3,
     "solution": false,
     "task": false
    }
   },
   "source": [
    "### Test II.1\n",
    "\n",
    "For a naive LU decomposition to work, all leading minors of a matrix should be non-zero. Check if this requirement is satisfied for the two matrices `a` and `a1`.\n",
    "\n",
    "Note that directly checking if a determinant equals zero is not recommended (both computing a determinant explicitly, *and* comparing a floating-point number to zero are not recommended). \n",
    "\n",
    "Instead, check if leading minors have full rank (use `np.linalg.matrix_rank` function)."
   ]
  },
  {
   "cell_type": "code",
   "execution_count": null,
   "metadata": {
    "deletable": false,
    "nbgrader": {
     "cell_type": "code",
     "checksum": "1c47ca2a092587794e97bc6b7cfa9baa",
     "grade": false,
     "grade_id": "cell-cd7f666a9fa51d35",
     "locked": false,
     "schema_version": 3,
     "solution": true,
     "task": false
    }
   },
   "outputs": [],
   "source": [
    "def minor(a):\n",
    "    ''' Check if all leading minors have full rank.\n",
    "    \n",
    "    Parameters\n",
    "    ----------\n",
    "    a : np.array\n",
    "        2D array representing the square matrix\n",
    "    \n",
    "    Returns\n",
    "    -------\n",
    "    bool\n",
    "        True if all leading minors have full rank, False otherwise\n",
    "    '''\n",
    "    # YOUR CODE HERE\n",
    "    raise NotImplementedError()"
   ]
  },
  {
   "cell_type": "code",
   "execution_count": null,
   "metadata": {
    "deletable": false,
    "editable": false,
    "nbgrader": {
     "cell_type": "code",
     "checksum": "d2136cee5232e14bb7248906aa733ea6",
     "grade": true,
     "grade_id": "cell-212d71a3e76aea58",
     "locked": true,
     "points": 2,
     "schema_version": 3,
     "solution": false,
     "task": false
    }
   },
   "outputs": [],
   "source": [
    "assert minor(a) is True\n",
    "assert minor(a1) is False\n"
   ]
  },
  {
   "cell_type": "markdown",
   "metadata": {
    "deletable": false,
    "editable": false,
    "nbgrader": {
     "cell_type": "markdown",
     "checksum": "66bc458a2e5c77839aa5f3c7a769d3e0",
     "grade": false,
     "grade_id": "cell-6c5d624065287d6b",
     "locked": true,
     "schema_version": 3,
     "solution": false,
     "task": false
    }
   },
   "source": [
    "### Test II.2\n",
    "\n",
    "Modify the `diy_lu` routine to implement column pivoting. Keep track of pivots, you can either construct a permutation matrix, or a swap array (your choice).\n",
    "\n",
    "Implement a function to reconstruct the original matrix from a decompositon. Test your routines on the matrices `a` and `a1`."
   ]
  },
  {
   "cell_type": "code",
   "execution_count": null,
   "metadata": {
    "deletable": false,
    "nbgrader": {
     "cell_type": "code",
     "checksum": "78eba519659c7c28819214db4c6a4957",
     "grade": false,
     "grade_id": "cell-703a27f2e76339e7",
     "locked": false,
     "schema_version": 3,
     "solution": true,
     "task": false
    }
   },
   "outputs": [],
   "source": [
    "def diy_lu_mod(a):\n",
    "    '''Perform pivoted LU factorization of the input matrix. \n",
    "    \n",
    "    Parameters\n",
    "    ----------\n",
    "    a : np.array\n",
    "        2D array representing a square matrix with float entries\n",
    "       \n",
    "    Returns\n",
    "    -------\n",
    "    P, L, U : ndarrays\n",
    "        factors. Here P is a permutation matrix, L is lower triangular\n",
    "        with unit diagonal elements, and U upper triangular.\n",
    "    '''\n",
    "    # YOUR CODE HERE\n",
    "    raise NotImplementedError()"
   ]
  },
  {
   "cell_type": "code",
   "execution_count": null,
   "metadata": {
    "deletable": false,
    "editable": false,
    "nbgrader": {
     "cell_type": "code",
     "checksum": "27f21bdfa273fc780b8134ec7edf68de",
     "grade": true,
     "grade_id": "cell-eacc7aa962410524",
     "locked": true,
     "points": 8,
     "schema_version": 3,
     "solution": false,
     "task": false
    }
   },
   "outputs": [],
   "source": [
    "from numpy.testing import assert_allclose\n",
    "\n",
    "P, L, U = diy_lu_mod(a)\n",
    "assert_allclose(P.T @ P, \n",
    "                np.identity(a.shape[0]), atol=1e-14)\n",
    "assert_allclose(a,\n",
    "                P @ L @ U, atol=1e-10)\n",
    "\n",
    "P1, L1, U1 = diy_lu_mod(a1)\n",
    "assert_allclose(P1.T @ P1,\n",
    "                np.identity(a1.shape[0]), atol=1e-14)\n",
    "assert_allclose(a1,\n",
    "                P1 @ L1 @ U1, atol=1e-10)\n"
   ]
  },
  {
   "cell_type": "markdown",
   "metadata": {
    "deletable": false,
    "editable": false,
    "nbgrader": {
     "cell_type": "markdown",
     "checksum": "f2eca58232ca0538e5a5d6b7492f06ee",
     "grade": false,
     "grade_id": "cell-852a59b30607bd02",
     "locked": true,
     "schema_version": 3,
     "solution": false,
     "task": false
    }
   },
   "source": [
    "# III. Use the LU factorization to solve a linear system\n",
    "\n",
    "Write a function for solving a system of linear equations $\\mathrm{A} \\vec{x} = \\vec{b}$ using the pivoted LU factorization.\n",
    "\n",
    "Use your `diy_lu_mod` routine to factorize the input matrix. You may also use `scipy.linalg.solve_triagular` for solving systems of equations with triangular matrices $L$ and $U$. Do *not* use general-purpose library `solve` routines.\n",
    "\n",
    "(In case you wonder why bothering: what is the computational complexity of solving a linear system with a triangular matrix? With a general matrix?)"
   ]
  },
  {
   "cell_type": "code",
   "execution_count": null,
   "metadata": {
    "deletable": false,
    "nbgrader": {
     "cell_type": "code",
     "checksum": "7b96c856c9ccf85d70eb57f515628f79",
     "grade": false,
     "grade_id": "cell-4143ce4de77d98cc",
     "locked": false,
     "schema_version": 3,
     "solution": true,
     "task": false
    }
   },
   "outputs": [],
   "source": [
    "from scipy.linalg import solve_triangular\n",
    "\n",
    "def lu_solve(a, b):\n",
    "    \"\"\"Solve a linear system `a @ x = b` via pivoted LU decomposition.\n",
    "\n",
    "   Parameters\n",
    "    ----------\n",
    "    a : np.array\n",
    "        2D array representing a square matrix with float entries\n",
    "    b : np.array\n",
    "        1D array representing the right-hand-side of the system\n",
    "       \n",
    "    Returns\n",
    "    -------\n",
    "    x : np.array\n",
    "        The solution of `a @ x = b`\n",
    "    \"\"\"\n",
    "    P, L, U = diy_lu_mod(a)\n",
    "    # YOUR CODE HERE\n",
    "    raise NotImplementedError()"
   ]
  },
  {
   "cell_type": "code",
   "execution_count": null,
   "metadata": {
    "deletable": false,
    "editable": false,
    "nbgrader": {
     "cell_type": "code",
     "checksum": "c70badc5ca0d96e77da0cd7b85c279ea",
     "grade": true,
     "grade_id": "cell-a07f0d9bb897f49a",
     "locked": true,
     "points": 3,
     "schema_version": 3,
     "solution": false,
     "task": false
    }
   },
   "outputs": [],
   "source": [
    "b = np.arange(a.shape[0])\n",
    "assert_allclose(lu_solve(a, b),\n",
    "                np.linalg.solve(a, b), atol=1e-10)\n"
   ]
  },
  {
   "cell_type": "markdown",
   "metadata": {
    "deletable": false,
    "editable": false,
    "nbgrader": {
     "cell_type": "markdown",
     "checksum": "fa32520048c167a16a858f7d3935adf6",
     "grade": false,
     "grade_id": "cell-3ae8a6f61e63390e",
     "locked": true,
     "schema_version": 3,
     "solution": false,
     "task": false
    }
   },
   "source": [
    "### Extra points : multiple r.h.s\n",
    "\n",
    "Check that your `lu_solve` function handles the case where the `b` array contains an $M$-times-$N$ matrix, where each column represents a right-hand-side of a linear system. Modify the `lu_solve` function if necessary. \n",
    "\n",
    "For instance, you can compute the inverse matrix of `a2` in the cell below."
   ]
  },
  {
   "cell_type": "code",
   "execution_count": null,
   "metadata": {
    "deletable": false,
    "editable": false,
    "nbgrader": {
     "cell_type": "code",
     "checksum": "9547bbce7b7d10be194b0d4ea622ecd5",
     "grade": true,
     "grade_id": "cell-fc07aaa60a7b8db1",
     "locked": true,
     "points": 2,
     "schema_version": 3,
     "solution": false,
     "task": false
    }
   },
   "outputs": [],
   "source": [
    "assert_allclose(lu_solve(a2, np.identity(a2.shape[0])),\n",
    "                np.linalg.inv(a2), atol=1e-10\n",
    "               )"
   ]
  }
 ],
 "metadata": {
  "kernelspec": {
   "display_name": "Python 3",
   "language": "python",
   "name": "python3"
  },
  "language_info": {
   "codemirror_mode": {
    "name": "ipython",
    "version": 3
   },
   "file_extension": ".py",
   "mimetype": "text/x-python",
   "name": "python",
   "nbconvert_exporter": "python",
   "pygments_lexer": "ipython3",
   "version": "3.8.5"
  }
 },
 "nbformat": 4,
 "nbformat_minor": 2
}
